{
 "cells": [
  {
   "cell_type": "code",
   "execution_count": 1,
   "id": "7c0ac0d0",
   "metadata": {},
   "outputs": [],
   "source": [
    "# importing required libraries\n",
    "import numpy as np\n",
    "import pandas as pd\n",
    "import matplotlib.pyplot as plt\n",
    "from sklearn import preprocessing\n",
    "from sklearn.preprocessing import StandardScaler\n",
    "from sklearn.model_selection import train_test_split\n",
    "from sklearn.linear_model import LogisticRegression\n",
    "from sklearn.naive_bayes import MultinomialNB\n",
    "from sklearn.naive_bayes import GaussianNB\n",
    "from sklearn.tree import DecisionTreeClassifier\n",
    "from sklearn import svm\n",
    "from sklearn.ensemble import RandomForestClassifier\n",
    "from xgboost import XGBClassifier\n",
    "from sklearn.ensemble import BaggingClassifier\n",
    "from sklearn.ensemble import GradientBoostingClassifier\n",
    "import xgboost as xgb\n",
    "from sklearn import metrics\n",
    "from sklearn.metrics import accuracy_score\n",
    "from sklearn.metrics import log_loss\n",
    "from sklearn.ensemble import VotingClassifier\n",
    "from sklearn.metrics import classification_report"
   ]
  },
  {
   "cell_type": "code",
   "execution_count": 2,
   "id": "c80d761a",
   "metadata": {},
   "outputs": [
    {
     "data": {
      "text/html": [
       "<div>\n",
       "<style scoped>\n",
       "    .dataframe tbody tr th:only-of-type {\n",
       "        vertical-align: middle;\n",
       "    }\n",
       "\n",
       "    .dataframe tbody tr th {\n",
       "        vertical-align: top;\n",
       "    }\n",
       "\n",
       "    .dataframe thead th {\n",
       "        text-align: right;\n",
       "    }\n",
       "</style>\n",
       "<table border=\"1\" class=\"dataframe\">\n",
       "  <thead>\n",
       "    <tr style=\"text-align: right;\">\n",
       "      <th></th>\n",
       "      <th>subreddit</th>\n",
       "      <th>post_id</th>\n",
       "      <th>sentence_range</th>\n",
       "      <th>text</th>\n",
       "      <th>id</th>\n",
       "      <th>label</th>\n",
       "      <th>confidence</th>\n",
       "      <th>social_timestamp</th>\n",
       "      <th>social_karma</th>\n",
       "      <th>syntax_ari</th>\n",
       "      <th>...</th>\n",
       "      <th>lex_dal_min_pleasantness</th>\n",
       "      <th>lex_dal_min_activation</th>\n",
       "      <th>lex_dal_min_imagery</th>\n",
       "      <th>lex_dal_avg_activation</th>\n",
       "      <th>lex_dal_avg_imagery</th>\n",
       "      <th>lex_dal_avg_pleasantness</th>\n",
       "      <th>social_upvote_ratio</th>\n",
       "      <th>social_num_comments</th>\n",
       "      <th>syntax_fk_grade</th>\n",
       "      <th>sentiment</th>\n",
       "    </tr>\n",
       "  </thead>\n",
       "  <tbody>\n",
       "    <tr>\n",
       "      <th>0</th>\n",
       "      <td>ptsd</td>\n",
       "      <td>8601tu</td>\n",
       "      <td>(15, 20)</td>\n",
       "      <td>He said he had not felt that way before, sugge...</td>\n",
       "      <td>33181</td>\n",
       "      <td>1</td>\n",
       "      <td>0.8</td>\n",
       "      <td>1521614353</td>\n",
       "      <td>5</td>\n",
       "      <td>1.806818</td>\n",
       "      <td>...</td>\n",
       "      <td>1.000</td>\n",
       "      <td>1.1250</td>\n",
       "      <td>1.0</td>\n",
       "      <td>1.77000</td>\n",
       "      <td>1.52211</td>\n",
       "      <td>1.89556</td>\n",
       "      <td>0.86</td>\n",
       "      <td>1</td>\n",
       "      <td>3.253573</td>\n",
       "      <td>-0.002742</td>\n",
       "    </tr>\n",
       "    <tr>\n",
       "      <th>1</th>\n",
       "      <td>assistance</td>\n",
       "      <td>8lbrx9</td>\n",
       "      <td>(0, 5)</td>\n",
       "      <td>Hey there r/assistance, Not sure if this is th...</td>\n",
       "      <td>2606</td>\n",
       "      <td>0</td>\n",
       "      <td>1.0</td>\n",
       "      <td>1527009817</td>\n",
       "      <td>4</td>\n",
       "      <td>9.429737</td>\n",
       "      <td>...</td>\n",
       "      <td>1.125</td>\n",
       "      <td>1.0000</td>\n",
       "      <td>1.0</td>\n",
       "      <td>1.69586</td>\n",
       "      <td>1.62045</td>\n",
       "      <td>1.88919</td>\n",
       "      <td>0.65</td>\n",
       "      <td>2</td>\n",
       "      <td>8.828316</td>\n",
       "      <td>0.292857</td>\n",
       "    </tr>\n",
       "    <tr>\n",
       "      <th>2</th>\n",
       "      <td>ptsd</td>\n",
       "      <td>9ch1zh</td>\n",
       "      <td>(15, 20)</td>\n",
       "      <td>My mom then hit me with the newspaper and it s...</td>\n",
       "      <td>38816</td>\n",
       "      <td>1</td>\n",
       "      <td>0.8</td>\n",
       "      <td>1535935605</td>\n",
       "      <td>2</td>\n",
       "      <td>7.769821</td>\n",
       "      <td>...</td>\n",
       "      <td>1.000</td>\n",
       "      <td>1.1429</td>\n",
       "      <td>1.0</td>\n",
       "      <td>1.83088</td>\n",
       "      <td>1.58108</td>\n",
       "      <td>1.85828</td>\n",
       "      <td>0.67</td>\n",
       "      <td>0</td>\n",
       "      <td>7.841667</td>\n",
       "      <td>0.011894</td>\n",
       "    </tr>\n",
       "    <tr>\n",
       "      <th>3</th>\n",
       "      <td>relationships</td>\n",
       "      <td>7rorpp</td>\n",
       "      <td>[5, 10]</td>\n",
       "      <td>until i met my new boyfriend, he is amazing, h...</td>\n",
       "      <td>239</td>\n",
       "      <td>1</td>\n",
       "      <td>0.6</td>\n",
       "      <td>1516429555</td>\n",
       "      <td>0</td>\n",
       "      <td>2.667798</td>\n",
       "      <td>...</td>\n",
       "      <td>1.000</td>\n",
       "      <td>1.1250</td>\n",
       "      <td>1.0</td>\n",
       "      <td>1.75356</td>\n",
       "      <td>1.52114</td>\n",
       "      <td>1.98848</td>\n",
       "      <td>0.50</td>\n",
       "      <td>5</td>\n",
       "      <td>4.104027</td>\n",
       "      <td>0.141671</td>\n",
       "    </tr>\n",
       "    <tr>\n",
       "      <th>4</th>\n",
       "      <td>survivorsofabuse</td>\n",
       "      <td>9p2gbc</td>\n",
       "      <td>[0, 5]</td>\n",
       "      <td>October is Domestic Violence Awareness Month a...</td>\n",
       "      <td>1421</td>\n",
       "      <td>1</td>\n",
       "      <td>0.8</td>\n",
       "      <td>1539809005</td>\n",
       "      <td>24</td>\n",
       "      <td>7.554238</td>\n",
       "      <td>...</td>\n",
       "      <td>1.000</td>\n",
       "      <td>1.1250</td>\n",
       "      <td>1.0</td>\n",
       "      <td>1.77644</td>\n",
       "      <td>1.64872</td>\n",
       "      <td>1.81456</td>\n",
       "      <td>1.00</td>\n",
       "      <td>1</td>\n",
       "      <td>7.910952</td>\n",
       "      <td>-0.204167</td>\n",
       "    </tr>\n",
       "  </tbody>\n",
       "</table>\n",
       "<p>5 rows × 116 columns</p>\n",
       "</div>"
      ],
      "text/plain": [
       "          subreddit post_id sentence_range  \\\n",
       "0              ptsd  8601tu       (15, 20)   \n",
       "1        assistance  8lbrx9         (0, 5)   \n",
       "2              ptsd  9ch1zh       (15, 20)   \n",
       "3     relationships  7rorpp        [5, 10]   \n",
       "4  survivorsofabuse  9p2gbc         [0, 5]   \n",
       "\n",
       "                                                text     id  label  \\\n",
       "0  He said he had not felt that way before, sugge...  33181      1   \n",
       "1  Hey there r/assistance, Not sure if this is th...   2606      0   \n",
       "2  My mom then hit me with the newspaper and it s...  38816      1   \n",
       "3  until i met my new boyfriend, he is amazing, h...    239      1   \n",
       "4  October is Domestic Violence Awareness Month a...   1421      1   \n",
       "\n",
       "   confidence  social_timestamp  social_karma  syntax_ari  ...  \\\n",
       "0         0.8        1521614353             5    1.806818  ...   \n",
       "1         1.0        1527009817             4    9.429737  ...   \n",
       "2         0.8        1535935605             2    7.769821  ...   \n",
       "3         0.6        1516429555             0    2.667798  ...   \n",
       "4         0.8        1539809005            24    7.554238  ...   \n",
       "\n",
       "   lex_dal_min_pleasantness  lex_dal_min_activation  lex_dal_min_imagery  \\\n",
       "0                     1.000                  1.1250                  1.0   \n",
       "1                     1.125                  1.0000                  1.0   \n",
       "2                     1.000                  1.1429                  1.0   \n",
       "3                     1.000                  1.1250                  1.0   \n",
       "4                     1.000                  1.1250                  1.0   \n",
       "\n",
       "   lex_dal_avg_activation  lex_dal_avg_imagery  lex_dal_avg_pleasantness  \\\n",
       "0                 1.77000              1.52211                   1.89556   \n",
       "1                 1.69586              1.62045                   1.88919   \n",
       "2                 1.83088              1.58108                   1.85828   \n",
       "3                 1.75356              1.52114                   1.98848   \n",
       "4                 1.77644              1.64872                   1.81456   \n",
       "\n",
       "   social_upvote_ratio  social_num_comments  syntax_fk_grade  sentiment  \n",
       "0                 0.86                    1         3.253573  -0.002742  \n",
       "1                 0.65                    2         8.828316   0.292857  \n",
       "2                 0.67                    0         7.841667   0.011894  \n",
       "3                 0.50                    5         4.104027   0.141671  \n",
       "4                 1.00                    1         7.910952  -0.204167  \n",
       "\n",
       "[5 rows x 116 columns]"
      ]
     },
     "execution_count": 2,
     "metadata": {},
     "output_type": "execute_result"
    }
   ],
   "source": [
    "# importing dataset\n",
    "dataset = pd.read_csv('data/data_reddit.csv')\n",
    "dataset_copy = pd.read_csv('data/data_reddit_copy.csv')\n",
    "# checking whether the dataset has been imported correctly or not\n",
    "dataset.head()"
   ]
  },
  {
   "cell_type": "code",
   "execution_count": 3,
   "id": "8c2eceb2",
   "metadata": {},
   "outputs": [
    {
     "name": "stdout",
     "output_type": "stream",
     "text": [
      "label                     0.524868\n",
      "lex_liwc_function        58.608353\n",
      "lex_liwc_pronoun         19.779347\n",
      "lex_liwc_ppron           13.994748\n",
      "lex_liwc_i                9.075848\n",
      "lex_liwc_we               0.764988\n",
      "lex_liwc_you              0.861101\n",
      "lex_liwc_shehe            2.710942\n",
      "lex_liwc_they             0.581781\n",
      "lex_liwc_ipron            5.773439\n",
      "lex_liwc_article          4.934377\n",
      "lex_liwc_prep            13.350614\n",
      "lex_liwc_auxverb         10.310818\n",
      "lex_liwc_adverb           6.050247\n",
      "lex_liwc_conj             7.599383\n",
      "lex_liwc_negate           2.264797\n",
      "lex_liwc_verb            19.439372\n",
      "lex_liwc_adj              4.364346\n",
      "lex_liwc_compare          2.287203\n",
      "lex_liwc_interrog         1.608416\n",
      "lex_liwc_affect           6.100638\n",
      "lex_liwc_posemo           2.697845\n",
      "lex_liwc_negemo           3.307887\n",
      "lex_liwc_anx              0.914822\n",
      "lex_liwc_anger            0.929517\n",
      "lex_liwc_sad              0.599086\n",
      "lex_liwc_social          10.823841\n",
      "lex_liwc_family           0.746000\n",
      "lex_liwc_friend           0.555820\n",
      "lex_liwc_female           1.578282\n",
      "lex_liwc_male             1.978966\n",
      "lex_liwc_cogproc         13.593757\n",
      "lex_liwc_insight          2.852261\n",
      "lex_liwc_cause            1.725238\n",
      "lex_liwc_discrep          1.945245\n",
      "lex_liwc_tentat           3.323591\n",
      "lex_liwc_certain          1.544561\n",
      "lex_liwc_differ           3.973129\n",
      "lex_liwc_percept          2.248152\n",
      "lex_liwc_see              0.573721\n",
      "lex_liwc_hear             0.613594\n",
      "lex_liwc_feel             0.913129\n",
      "lex_liwc_bio              2.611937\n",
      "lex_liwc_body             0.709333\n",
      "lex_liwc_health           1.246617\n",
      "lex_liwc_sexual           0.214335\n",
      "lex_liwc_ingest           0.405877\n",
      "lex_liwc_focuspast        5.062229\n",
      "lex_liwc_focuspresent    12.327982\n",
      "lex_liwc_focusfuture      1.181654\n",
      "social_upvote_ratio       0.843351\n",
      "social_num_comments       9.959083\n",
      "dtype: float64\n"
     ]
    },
    {
     "data": {
      "text/html": [
       "<div>\n",
       "<style scoped>\n",
       "    .dataframe tbody tr th:only-of-type {\n",
       "        vertical-align: middle;\n",
       "    }\n",
       "\n",
       "    .dataframe tbody tr th {\n",
       "        vertical-align: top;\n",
       "    }\n",
       "\n",
       "    .dataframe thead th {\n",
       "        text-align: right;\n",
       "    }\n",
       "</style>\n",
       "<table border=\"1\" class=\"dataframe\">\n",
       "  <thead>\n",
       "    <tr style=\"text-align: right;\">\n",
       "      <th></th>\n",
       "      <th>label</th>\n",
       "      <th>lex_liwc_function</th>\n",
       "      <th>lex_liwc_pronoun</th>\n",
       "      <th>lex_liwc_ppron</th>\n",
       "      <th>lex_liwc_i</th>\n",
       "      <th>lex_liwc_we</th>\n",
       "      <th>lex_liwc_you</th>\n",
       "      <th>lex_liwc_shehe</th>\n",
       "      <th>lex_liwc_they</th>\n",
       "      <th>lex_liwc_ipron</th>\n",
       "      <th>...</th>\n",
       "      <th>lex_liwc_bio</th>\n",
       "      <th>lex_liwc_body</th>\n",
       "      <th>lex_liwc_health</th>\n",
       "      <th>lex_liwc_sexual</th>\n",
       "      <th>lex_liwc_ingest</th>\n",
       "      <th>lex_liwc_focuspast</th>\n",
       "      <th>lex_liwc_focuspresent</th>\n",
       "      <th>lex_liwc_focusfuture</th>\n",
       "      <th>social_upvote_ratio</th>\n",
       "      <th>social_num_comments</th>\n",
       "    </tr>\n",
       "  </thead>\n",
       "  <tbody>\n",
       "    <tr>\n",
       "      <th>0</th>\n",
       "      <td>1</td>\n",
       "      <td>56.03</td>\n",
       "      <td>16.38</td>\n",
       "      <td>12.07</td>\n",
       "      <td>9.48</td>\n",
       "      <td>0.00</td>\n",
       "      <td>0.86</td>\n",
       "      <td>1.72</td>\n",
       "      <td>0.0</td>\n",
       "      <td>4.31</td>\n",
       "      <td>...</td>\n",
       "      <td>2.59</td>\n",
       "      <td>0.86</td>\n",
       "      <td>1.72</td>\n",
       "      <td>0.00</td>\n",
       "      <td>0.00</td>\n",
       "      <td>4.31</td>\n",
       "      <td>11.21</td>\n",
       "      <td>0.86</td>\n",
       "      <td>0.86</td>\n",
       "      <td>1</td>\n",
       "    </tr>\n",
       "    <tr>\n",
       "      <th>1</th>\n",
       "      <td>0</td>\n",
       "      <td>48.62</td>\n",
       "      <td>11.93</td>\n",
       "      <td>7.34</td>\n",
       "      <td>1.83</td>\n",
       "      <td>2.75</td>\n",
       "      <td>2.75</td>\n",
       "      <td>0.00</td>\n",
       "      <td>0.0</td>\n",
       "      <td>4.59</td>\n",
       "      <td>...</td>\n",
       "      <td>0.00</td>\n",
       "      <td>0.00</td>\n",
       "      <td>0.00</td>\n",
       "      <td>0.00</td>\n",
       "      <td>0.00</td>\n",
       "      <td>0.92</td>\n",
       "      <td>13.76</td>\n",
       "      <td>0.92</td>\n",
       "      <td>0.65</td>\n",
       "      <td>2</td>\n",
       "    </tr>\n",
       "    <tr>\n",
       "      <th>2</th>\n",
       "      <td>1</td>\n",
       "      <td>61.68</td>\n",
       "      <td>25.15</td>\n",
       "      <td>16.17</td>\n",
       "      <td>8.98</td>\n",
       "      <td>1.80</td>\n",
       "      <td>1.80</td>\n",
       "      <td>2.99</td>\n",
       "      <td>0.6</td>\n",
       "      <td>8.98</td>\n",
       "      <td>...</td>\n",
       "      <td>0.60</td>\n",
       "      <td>0.60</td>\n",
       "      <td>0.00</td>\n",
       "      <td>0.00</td>\n",
       "      <td>0.00</td>\n",
       "      <td>3.59</td>\n",
       "      <td>14.37</td>\n",
       "      <td>1.80</td>\n",
       "      <td>0.67</td>\n",
       "      <td>0</td>\n",
       "    </tr>\n",
       "    <tr>\n",
       "      <th>3</th>\n",
       "      <td>1</td>\n",
       "      <td>65.57</td>\n",
       "      <td>30.40</td>\n",
       "      <td>23.44</td>\n",
       "      <td>16.12</td>\n",
       "      <td>0.37</td>\n",
       "      <td>0.37</td>\n",
       "      <td>6.59</td>\n",
       "      <td>0.0</td>\n",
       "      <td>6.96</td>\n",
       "      <td>...</td>\n",
       "      <td>2.20</td>\n",
       "      <td>0.00</td>\n",
       "      <td>0.00</td>\n",
       "      <td>0.37</td>\n",
       "      <td>0.37</td>\n",
       "      <td>7.69</td>\n",
       "      <td>13.19</td>\n",
       "      <td>1.10</td>\n",
       "      <td>0.50</td>\n",
       "      <td>5</td>\n",
       "    </tr>\n",
       "    <tr>\n",
       "      <th>4</th>\n",
       "      <td>1</td>\n",
       "      <td>52.81</td>\n",
       "      <td>15.73</td>\n",
       "      <td>11.24</td>\n",
       "      <td>7.87</td>\n",
       "      <td>0.00</td>\n",
       "      <td>0.00</td>\n",
       "      <td>3.37</td>\n",
       "      <td>0.0</td>\n",
       "      <td>4.49</td>\n",
       "      <td>...</td>\n",
       "      <td>2.25</td>\n",
       "      <td>0.00</td>\n",
       "      <td>1.12</td>\n",
       "      <td>1.12</td>\n",
       "      <td>0.00</td>\n",
       "      <td>5.62</td>\n",
       "      <td>6.74</td>\n",
       "      <td>0.00</td>\n",
       "      <td>1.00</td>\n",
       "      <td>1</td>\n",
       "    </tr>\n",
       "  </tbody>\n",
       "</table>\n",
       "<p>5 rows × 52 columns</p>\n",
       "</div>"
      ],
      "text/plain": [
       "   label  lex_liwc_function  lex_liwc_pronoun  lex_liwc_ppron  lex_liwc_i  \\\n",
       "0      1              56.03             16.38           12.07        9.48   \n",
       "1      0              48.62             11.93            7.34        1.83   \n",
       "2      1              61.68             25.15           16.17        8.98   \n",
       "3      1              65.57             30.40           23.44       16.12   \n",
       "4      1              52.81             15.73           11.24        7.87   \n",
       "\n",
       "   lex_liwc_we  lex_liwc_you  lex_liwc_shehe  lex_liwc_they  lex_liwc_ipron  \\\n",
       "0         0.00          0.86            1.72            0.0            4.31   \n",
       "1         2.75          2.75            0.00            0.0            4.59   \n",
       "2         1.80          1.80            2.99            0.6            8.98   \n",
       "3         0.37          0.37            6.59            0.0            6.96   \n",
       "4         0.00          0.00            3.37            0.0            4.49   \n",
       "\n",
       "   ...  lex_liwc_bio  lex_liwc_body  lex_liwc_health  lex_liwc_sexual  \\\n",
       "0  ...          2.59           0.86             1.72             0.00   \n",
       "1  ...          0.00           0.00             0.00             0.00   \n",
       "2  ...          0.60           0.60             0.00             0.00   \n",
       "3  ...          2.20           0.00             0.00             0.37   \n",
       "4  ...          2.25           0.00             1.12             1.12   \n",
       "\n",
       "   lex_liwc_ingest  lex_liwc_focuspast  lex_liwc_focuspresent  \\\n",
       "0             0.00                4.31                  11.21   \n",
       "1             0.00                0.92                  13.76   \n",
       "2             0.00                3.59                  14.37   \n",
       "3             0.37                7.69                  13.19   \n",
       "4             0.00                5.62                   6.74   \n",
       "\n",
       "   lex_liwc_focusfuture  social_upvote_ratio  social_num_comments  \n",
       "0                  0.86                 0.86                    1  \n",
       "1                  0.92                 0.65                    2  \n",
       "2                  1.80                 0.67                    0  \n",
       "3                  1.10                 0.50                    5  \n",
       "4                  0.00                 1.00                    1  \n",
       "\n",
       "[5 rows x 52 columns]"
      ]
     },
     "execution_count": 3,
     "metadata": {},
     "output_type": "execute_result"
    }
   ],
   "source": [
    "# Data Cleaning\n",
    "# Step 1: Selecting required columns\n",
    "stress_analysis = dataset[['label',\n",
    "                           'lex_liwc_function',\n",
    "                           'lex_liwc_pronoun', \n",
    "                           'lex_liwc_ppron',\n",
    "                           'lex_liwc_i',\n",
    "                           'lex_liwc_we',\n",
    "                           'lex_liwc_you',\n",
    "                           'lex_liwc_shehe',\n",
    "                           'lex_liwc_they',\n",
    "                           'lex_liwc_ipron',\n",
    "                           'lex_liwc_article',\n",
    "                           'lex_liwc_prep',\n",
    "                           'lex_liwc_auxverb',\n",
    "                           'lex_liwc_adverb',\n",
    "                           'lex_liwc_conj',\n",
    "                           'lex_liwc_negate',\n",
    "                           'lex_liwc_verb',\n",
    "                           'lex_liwc_adj',\n",
    "                           'lex_liwc_compare',\n",
    "                           'lex_liwc_interrog',\n",
    "                           'lex_liwc_affect',\n",
    "                           'lex_liwc_posemo',\n",
    "                           'lex_liwc_negemo',\n",
    "                           'lex_liwc_anx',\n",
    "                           'lex_liwc_anger',\n",
    "                           'lex_liwc_sad',\n",
    "                           'lex_liwc_social',\n",
    "                           'lex_liwc_family',\n",
    "                           'lex_liwc_friend',\n",
    "                           'lex_liwc_female',\n",
    "                           'lex_liwc_male',\n",
    "                           'lex_liwc_cogproc',\n",
    "                           'lex_liwc_insight',\n",
    "                           'lex_liwc_cause',\n",
    "                           'lex_liwc_discrep',\n",
    "                           'lex_liwc_tentat',\n",
    "                           'lex_liwc_certain',\n",
    "                           'lex_liwc_differ',\n",
    "                           'lex_liwc_percept',\n",
    "                           'lex_liwc_see',\n",
    "                           'lex_liwc_hear',\n",
    "                           'lex_liwc_feel',\n",
    "                           'lex_liwc_bio',\n",
    "                           'lex_liwc_body',\n",
    "                           'lex_liwc_health',\n",
    "                           'lex_liwc_sexual',\n",
    "                           'lex_liwc_ingest',\n",
    "                           'lex_liwc_focuspast',\n",
    "                           'lex_liwc_focuspresent',\n",
    "                           'lex_liwc_focusfuture',\n",
    "                           'social_upvote_ratio',\n",
    "                           'social_num_comments']]\n",
    "# stress_analysis.head()\n",
    "stress_analysis_copy = dataset_copy[['label',\n",
    "                           'lex_liwc_function',\n",
    "                           'lex_liwc_pronoun', \n",
    "                           'lex_liwc_ppron',\n",
    "                           'lex_liwc_i',\n",
    "                           'lex_liwc_we',\n",
    "                           'lex_liwc_you',\n",
    "                           'lex_liwc_shehe',\n",
    "                           'lex_liwc_they',\n",
    "                           'lex_liwc_ipron',\n",
    "                           'lex_liwc_article',\n",
    "                           'lex_liwc_prep',\n",
    "                           'lex_liwc_auxverb',\n",
    "                           'lex_liwc_adverb',\n",
    "                           'lex_liwc_conj',\n",
    "                           'lex_liwc_negate',\n",
    "                           'lex_liwc_verb',\n",
    "                           'lex_liwc_adj',\n",
    "                           'lex_liwc_compare',\n",
    "                           'lex_liwc_interrog',\n",
    "                           'lex_liwc_affect',\n",
    "                           'lex_liwc_posemo',\n",
    "                           'lex_liwc_negemo',\n",
    "                           'lex_liwc_anx',\n",
    "                           'lex_liwc_anger',\n",
    "                           'lex_liwc_sad',\n",
    "                           'lex_liwc_social',\n",
    "                           'lex_liwc_family',\n",
    "                           'lex_liwc_friend',\n",
    "                           'lex_liwc_female',\n",
    "                           'lex_liwc_male',\n",
    "                           'lex_liwc_cogproc',\n",
    "                           'lex_liwc_insight',\n",
    "                           'lex_liwc_cause',\n",
    "                           'lex_liwc_discrep',\n",
    "                           'lex_liwc_tentat',\n",
    "                           'lex_liwc_certain',\n",
    "                           'lex_liwc_differ',\n",
    "                           'lex_liwc_percept',\n",
    "                           'lex_liwc_see',\n",
    "                           'lex_liwc_hear',\n",
    "                           'lex_liwc_feel',\n",
    "                           'lex_liwc_bio',\n",
    "                           'lex_liwc_body',\n",
    "                           'lex_liwc_health',\n",
    "                           'lex_liwc_sexual',\n",
    "                           'lex_liwc_ingest',\n",
    "                           'lex_liwc_focuspast',\n",
    "                           'lex_liwc_focuspresent',\n",
    "                           'lex_liwc_focusfuture',\n",
    "                           'social_upvote_ratio',\n",
    "                           'social_num_comments']]\n",
    "# stress_analysis_copy.head()\n",
    "\n",
    "# Step 2: Removing duplicates if available\n",
    "stress_analysis = stress_analysis.drop_duplicates()\n",
    "stress_analysis_copy = stress_analysis_copy.drop_duplicates()\n",
    "\n",
    "\n",
    "# Step 3: Filling null values of each feature using mean\n",
    "stress_analysis_mean = stress_analysis.mean(axis=0, skipna=True, numeric_only=False)\n",
    "stress_analysis_copy_mean = stress_analysis_copy.mean(axis=0, skipna=True, numeric_only=False)\n",
    "print(stress_analysis_mean)\n",
    "# print(stress_analysis_copy_mean)\n",
    "stress_analysis['label'] = stress_analysis['label'].fillna(stress_analysis['label'].mode())\n",
    "for i in stress_analysis.iloc[1 : , 1 : ]:\n",
    "    stress_analysis[i].fillna(value=stress_analysis_mean[i], inplace=True)\n",
    "    \n",
    "stress_analysis.head()\n",
    "\n",
    "# for the copy\n",
    "######\n",
    "stress_analysis_copy['label'] = stress_analysis_copy['label'].fillna(stress_analysis_copy['label'].mode())\n",
    "for i in stress_analysis_copy.iloc[1 : , 1 : ]:\n",
    "    stress_analysis_copy[i].fillna(value=stress_analysis_copy_mean[i], inplace=True)\n",
    "######\n",
    "\n",
    "stress_analysis.head()\n",
    "# stress_analysis_copy.head()"
   ]
  },
  {
   "cell_type": "code",
   "execution_count": 4,
   "id": "2bd0ce61",
   "metadata": {},
   "outputs": [],
   "source": [
    "# for linguistic styles and common grammar\n",
    "stress_ling_com = stress_analysis.iloc[1 : , : 20].drop(columns = ['lex_liwc_function'])\n",
    "#stress_ling_com.head()\n",
    "stress_ling_com_X = preprocessing.StandardScaler().fit_transform(stress_ling_com.iloc[1 : , 1 : 20])\n",
    "#print(stress_ling_com_X)\n",
    "stress_ling_com_y = stress_ling_com.iloc[1 : , 0]\n",
    "#print(stress_ling_com_y)"
   ]
  },
  {
   "cell_type": "code",
   "execution_count": 5,
   "id": "088c15c4",
   "metadata": {},
   "outputs": [],
   "source": [
    "# split into train and test data\n",
    "stress_ling_com_X_train, stress_ling_com_X_test, stress_ling_com_y_train, stress_ling_com_y_test = train_test_split(stress_ling_com_X, stress_ling_com_y, test_size=0.30)"
   ]
  },
  {
   "cell_type": "code",
   "execution_count": 6,
   "id": "10258f82",
   "metadata": {},
   "outputs": [
    {
     "name": "stdout",
     "output_type": "stream",
     "text": [
      "Accuracy of logistic regression classifier on test set: 0.6753\n"
     ]
    }
   ],
   "source": [
    "# logistic regression\n",
    "stress_ling_com_logreg = LogisticRegression()\n",
    "stress_ling_com_logreg.fit(stress_ling_com_X_train, stress_ling_com_y_train)\n",
    "stress_ling_com_y_pred = stress_ling_com_logreg.predict(stress_ling_com_X_test)\n",
    "print('Accuracy of logistic regression classifier on test set: {:.4f}'.format(accuracy_score(stress_ling_com_y_test, stress_ling_com_y_pred)))"
   ]
  },
  {
   "cell_type": "code",
   "execution_count": 7,
   "id": "17544ed7",
   "metadata": {},
   "outputs": [
    {
     "name": "stdout",
     "output_type": "stream",
     "text": [
      "Accuracy of gaussian naive bayes classifier on test set: 0.6600\n"
     ]
    }
   ],
   "source": [
    "# gaussian Naive Bayes\n",
    "stress_ling_com_gaussianNB = GaussianNB()\n",
    "stress_ling_com_gaussianNB.fit(stress_ling_com_X_train, stress_ling_com_y_train)\n",
    "stress_ling_com_y_pred = stress_ling_com_gaussianNB.predict(stress_ling_com_X_test)\n",
    "print('Accuracy of gaussian naive bayes classifier on test set: {:.4f}'.format(accuracy_score(stress_ling_com_y_test, stress_ling_com_y_pred)))"
   ]
  },
  {
   "cell_type": "code",
   "execution_count": 8,
   "id": "61d23c4e",
   "metadata": {},
   "outputs": [
    {
     "name": "stdout",
     "output_type": "stream",
     "text": [
      "Accuracy of decision tree classifier on test set: 0.5824\n"
     ]
    }
   ],
   "source": [
    "# decision tree classifier\n",
    "stress_ling_com_dectree = DecisionTreeClassifier(criterion='entropy',random_state=0) \n",
    "stress_ling_com_dectree.fit(stress_ling_com_X_train,stress_ling_com_y_train)\n",
    "stress_ling_com_y_pred = stress_ling_com_dectree.predict(stress_ling_com_X_test)\n",
    "print('Accuracy of decision tree classifier on test set: {:.4f}'.format(accuracy_score(stress_ling_com_y_test, stress_ling_com_y_pred)))"
   ]
  },
  {
   "cell_type": "code",
   "execution_count": 9,
   "id": "e43fd43d",
   "metadata": {},
   "outputs": [
    {
     "name": "stdout",
     "output_type": "stream",
     "text": [
      "Accuracy of support vector machine on test set: 0.6824\n"
     ]
    }
   ],
   "source": [
    "# support vector machines with linear kernel\n",
    "stress_ling_com_svm = svm.SVC(kernel=\"linear\")\n",
    "stress_ling_com_svm.fit(stress_ling_com_X_train, stress_ling_com_y_train)\n",
    "stress_ling_com_y_pred = stress_ling_com_svm.predict(stress_ling_com_X_test)\n",
    "print('Accuracy of support vector machine on test set: {:.4f}'.format(accuracy_score(stress_ling_com_y_test, stress_ling_com_y_pred)))"
   ]
  },
  {
   "cell_type": "code",
   "execution_count": 10,
   "id": "39e4fd87",
   "metadata": {},
   "outputs": [
    {
     "name": "stdout",
     "output_type": "stream",
     "text": [
      "0.6501435547216847\n",
      "Accuracy of ensemble method using Voting Classifier on test set: 0.6824\n"
     ]
    }
   ],
   "source": [
    "# ensemble method using VotingClassifier()\n",
    "ensemble_model_1 = LogisticRegression()\n",
    "ensemble_model_2 = svm.SVC(kernel=\"linear\")\n",
    "ensemble_model_3 = RandomForestClassifier()\n",
    "ensemble_final_model = VotingClassifier(estimators=[('lr', ensemble_model_1), ('svm', ensemble_model_2), ('rf', ensemble_model_3)], voting='hard')\n",
    "ensemble_final_model.fit(stress_ling_com_X_train, stress_ling_com_y_train)\n",
    "y_pred_final = ensemble_final_model.predict(stress_ling_com_X_test)\n",
    "print(log_loss(stress_ling_com_y_pred, y_pred_final))\n",
    "print('Accuracy of ensemble method using Voting Classifier on test set: {:.4f}'.format(accuracy_score(stress_ling_com_y_test, stress_ling_com_y_pred)))"
   ]
  },
  {
   "cell_type": "code",
   "execution_count": 11,
   "id": "57a40968",
   "metadata": {},
   "outputs": [
    {
     "name": "stdout",
     "output_type": "stream",
     "text": [
      "Accuracy of ensemble method using Bagging Classifier on test set: 0.6447\n"
     ]
    }
   ],
   "source": [
    "# ensemble method using BaggingClassifier()\n",
    "stress_ling_com_bagging = BaggingClassifier(base_estimator=xgb.XGBClassifier())\n",
    "stress_ling_com_bagging.fit(stress_ling_com_X_train, stress_ling_com_y_train)\n",
    "stress_ling_com_y_pred = stress_ling_com_bagging.predict(stress_ling_com_X_test)\n",
    "print('Accuracy of ensemble method using Bagging Classifier on test set: {:.4f}'.format(accuracy_score(stress_ling_com_y_test, stress_ling_com_y_pred)))"
   ]
  },
  {
   "cell_type": "code",
   "execution_count": 12,
   "id": "b2e7e59f",
   "metadata": {},
   "outputs": [
    {
     "name": "stdout",
     "output_type": "stream",
     "text": [
      "Accuracy of ensemble method using Bagging Classifier on test set: 0.6576\n"
     ]
    }
   ],
   "source": [
    "# ensemble method using BoostingClassifier()\n",
    "stress_ling_com_boosting = GradientBoostingClassifier() \n",
    "stress_ling_com_boosting.fit(stress_ling_com_X_train, stress_ling_com_y_train)\n",
    "stress_ling_com_y_pred = stress_ling_com_boosting.predict(stress_ling_com_X_test)\n",
    "print('Accuracy of ensemble method using Bagging Classifier on test set: {:.4f}'.format(accuracy_score(stress_ling_com_y_test, stress_ling_com_y_pred)))"
   ]
  },
  {
   "cell_type": "code",
   "execution_count": 13,
   "id": "7b5d7ce8",
   "metadata": {},
   "outputs": [],
   "source": [
    "# for psychological processes\n",
    "stress_psycho_X = preprocessing.StandardScaler().fit_transform(stress_analysis.iloc[1 : , 21 : 26])\n",
    "#print(stress_psycho_X)\n",
    "stress_psycho_y = stress_analysis.iloc[1 : , 0]\n",
    "#print(stress_psycho_y)"
   ]
  },
  {
   "cell_type": "code",
   "execution_count": 14,
   "id": "2eb0ab91",
   "metadata": {},
   "outputs": [],
   "source": [
    "# split into train and test data\n",
    "stress_psycho_X_train, stress_psycho_X_test, stress_psycho_y_train, stress_psycho_y_test = train_test_split(stress_psycho_X, stress_psycho_y, test_size=0.30)"
   ]
  },
  {
   "cell_type": "code",
   "execution_count": 15,
   "id": "59e298dd",
   "metadata": {},
   "outputs": [
    {
     "name": "stdout",
     "output_type": "stream",
     "text": [
      "Accuracy of logistic regression classifier on test set: 0.7098\n"
     ]
    }
   ],
   "source": [
    "# logistic regression\n",
    "stress_psycho_logreg = LogisticRegression()\n",
    "stress_psycho_logreg.fit(stress_psycho_X_train, stress_psycho_y_train)\n",
    "stress_psycho_y_pred = stress_psycho_logreg.predict(stress_psycho_X_test)\n",
    "print('Accuracy of logistic regression classifier on test set: {:.4f}'.format(accuracy_score(stress_psycho_y_test, stress_psycho_y_pred)))"
   ]
  },
  {
   "cell_type": "code",
   "execution_count": 16,
   "id": "2c57280c",
   "metadata": {},
   "outputs": [
    {
     "name": "stdout",
     "output_type": "stream",
     "text": [
      "Accuracy of gaussian naive bayes classifier on test set: 0.6710\n"
     ]
    }
   ],
   "source": [
    "# gaussian naive bayes\n",
    "stress_psycho_gaussianNB = GaussianNB()\n",
    "stress_psycho_gaussianNB.fit(stress_psycho_X_train, stress_psycho_y_train)\n",
    "stress_psycho_y_pred = stress_psycho_gaussianNB.predict(stress_psycho_X_test)\n",
    "print('Accuracy of gaussian naive bayes classifier on test set: {:.4f}'.format(accuracy_score(stress_psycho_y_test, stress_psycho_y_pred)))"
   ]
  },
  {
   "cell_type": "code",
   "execution_count": 17,
   "id": "74d91c30",
   "metadata": {},
   "outputs": [
    {
     "name": "stdout",
     "output_type": "stream",
     "text": [
      "Accuracy of decision tree classifier on test set: 0.6533\n"
     ]
    }
   ],
   "source": [
    "# decision tree classifier\n",
    "stress_psycho_dectree = DecisionTreeClassifier(criterion='entropy',random_state=0) \n",
    "stress_psycho_dectree.fit(stress_psycho_X_train,stress_psycho_y_train)\n",
    "stress_psycho_y_pred = stress_psycho_dectree.predict(stress_psycho_X_test)\n",
    "print('Accuracy of decision tree classifier on test set: {:.4f}'.format(accuracy_score(stress_psycho_y_test, stress_psycho_y_pred)))"
   ]
  },
  {
   "cell_type": "code",
   "execution_count": 18,
   "id": "7bd86b90",
   "metadata": {},
   "outputs": [
    {
     "name": "stdout",
     "output_type": "stream",
     "text": [
      "Accuracy of support vector machine on test set: 0.7145\n"
     ]
    }
   ],
   "source": [
    "# support vector machines with linear kernel\n",
    "stress_psycho_svm = svm.SVC(kernel=\"linear\")\n",
    "stress_psycho_svm.fit(stress_psycho_X_train, stress_psycho_y_train)\n",
    "stress_psycho_y_pred = stress_psycho_svm.predict(stress_psycho_X_test)\n",
    "print('Accuracy of support vector machine on test set: {:.4f}'.format(accuracy_score(stress_psycho_y_test, stress_psycho_y_pred)))"
   ]
  },
  {
   "cell_type": "code",
   "execution_count": 19,
   "id": "565a62e6",
   "metadata": {},
   "outputs": [
    {
     "name": "stdout",
     "output_type": "stream",
     "text": [
      "Requirement already satisfied: xgboost in /opt/anaconda3/lib/python3.9/site-packages (1.7.5)\n",
      "Requirement already satisfied: numpy in /opt/anaconda3/lib/python3.9/site-packages (from xgboost) (1.21.5)\n",
      "Requirement already satisfied: scipy in /opt/anaconda3/lib/python3.9/site-packages (from xgboost) (1.9.1)\n",
      "Note: you may need to restart the kernel to use updated packages.\n"
     ]
    }
   ],
   "source": [
    "pip install xgboost"
   ]
  },
  {
   "cell_type": "code",
   "execution_count": 20,
   "id": "1f797366",
   "metadata": {},
   "outputs": [
    {
     "name": "stdout",
     "output_type": "stream",
     "text": [
      "0.44645656441635756\n",
      "Accuracy of ensemble method (Voting Classifier) on test set: 0.7145\n"
     ]
    }
   ],
   "source": [
    "# ensemble method using VotingClassifier()\n",
    "ensemble_model_1 = LogisticRegression()\n",
    "ensemble_model_2 = svm.SVC(kernel=\"linear\")\n",
    "ensemble_model_3 = RandomForestClassifier()\n",
    "ensemble_final_model = VotingClassifier(estimators=[('lr', ensemble_model_1), ('svm', ensemble_model_2), ('rf', ensemble_model_3)], voting='hard')\n",
    "ensemble_final_model.fit(stress_psycho_X_train, stress_psycho_y_train)\n",
    "y_pred_final = ensemble_final_model.predict(stress_psycho_X_test)\n",
    "print(log_loss(stress_psycho_y_pred, y_pred_final))\n",
    "print('Accuracy of ensemble method (Voting Classifier) on test set: {:.4f}'.format(accuracy_score(stress_psycho_y_test, stress_psycho_y_pred)))"
   ]
  },
  {
   "cell_type": "code",
   "execution_count": 21,
   "id": "a452bced",
   "metadata": {},
   "outputs": [
    {
     "name": "stdout",
     "output_type": "stream",
     "text": [
      "Accuracy of ensemble method using Bagging Classifier on test set: 0.6968\n"
     ]
    }
   ],
   "source": [
    "# ensemble method using BaggingClassifier()\n",
    "stress_psycho_bagging = BaggingClassifier(base_estimator=xgb.XGBClassifier())\n",
    "stress_psycho_bagging.fit(stress_psycho_X_train, stress_psycho_y_train)\n",
    "stress_psycho_y_pred = stress_psycho_bagging.predict(stress_psycho_X_test)\n",
    "print('Accuracy of ensemble method using Bagging Classifier on test set: {:.4f}'.format(accuracy_score(stress_psycho_y_test, stress_psycho_y_pred)))"
   ]
  },
  {
   "cell_type": "code",
   "execution_count": 22,
   "id": "eee42883",
   "metadata": {},
   "outputs": [
    {
     "name": "stdout",
     "output_type": "stream",
     "text": [
      "Accuracy of ensemble method using Boosting Classifier on test set: 0.6851\n"
     ]
    }
   ],
   "source": [
    "# ensemble method using BoostingClassifier()\n",
    "stress_psycho_boosting = GradientBoostingClassifier() \n",
    "stress_psycho_boosting.fit(stress_psycho_X_train, stress_psycho_y_train)\n",
    "stress_psycho_y_pred = stress_psycho_boosting.predict(stress_psycho_X_test)\n",
    "print('Accuracy of ensemble method using Boosting Classifier on test set: {:.4f}'.format(accuracy_score(stress_psycho_y_test, stress_psycho_y_pred)))"
   ]
  },
  {
   "cell_type": "code",
   "execution_count": 23,
   "id": "7c9901f8",
   "metadata": {},
   "outputs": [
    {
     "name": "stdout",
     "output_type": "stream",
     "text": [
      "[[-0.49994508 -0.52961973 -0.54706538 -0.6359895 ]\n",
      " [-0.09798631  2.88994739  0.07663192  0.13527385]\n",
      " [-0.25207051  0.5181585  -0.41886093  1.95416992]\n",
      " ...\n",
      " [-0.49994508 -0.52961973 -0.54706538 -0.6359895 ]\n",
      " [ 1.46965288 -0.52961973  2.50905139 -0.6359895 ]\n",
      " [ 3.02389345 -0.52961973  4.31777356 -0.6359895 ]]\n",
      "1       0\n",
      "2       1\n",
      "3       1\n",
      "4       1\n",
      "5       1\n",
      "       ..\n",
      "2833    0\n",
      "2834    1\n",
      "2835    0\n",
      "2836    0\n",
      "2837    1\n",
      "Name: label, Length: 2834, dtype: int64\n"
     ]
    }
   ],
   "source": [
    "# for social processes\n",
    "stress_social_X = preprocessing.StandardScaler().fit_transform(stress_analysis.iloc[1 : , 27 : 31])\n",
    "print(stress_social_X)\n",
    "stress_social_y = stress_analysis.iloc[1 : , 0]\n",
    "print(stress_social_y)"
   ]
  },
  {
   "cell_type": "code",
   "execution_count": 24,
   "id": "5270c5ba",
   "metadata": {},
   "outputs": [],
   "source": [
    "# split into train and test data\n",
    "stress_social_X_train, stress_social_X_test, stress_social_y_train, stress_social_y_test = train_test_split(stress_social_X, stress_social_y, test_size=0.30)"
   ]
  },
  {
   "cell_type": "code",
   "execution_count": 25,
   "id": "017e1779",
   "metadata": {},
   "outputs": [
    {
     "name": "stdout",
     "output_type": "stream",
     "text": [
      "Accuracy of logistic regression classifier on test set: 0.5617\n"
     ]
    }
   ],
   "source": [
    "# logistic regression\n",
    "stress_social_logreg = LogisticRegression()\n",
    "stress_social_logreg.fit(stress_social_X_train, stress_social_y_train)\n",
    "stress_social_y_pred = stress_social_logreg.predict(stress_social_X_test)\n",
    "print('Accuracy of logistic regression classifier on test set: {:.4f}'.format(accuracy_score(stress_social_y_test, stress_social_y_pred)))"
   ]
  },
  {
   "cell_type": "code",
   "execution_count": 26,
   "id": "1abd8828",
   "metadata": {},
   "outputs": [
    {
     "name": "stdout",
     "output_type": "stream",
     "text": [
      "Accuracy of gaussian naive bayes classifier on test set: 0.5664\n"
     ]
    }
   ],
   "source": [
    "# gaussian naive bayes\n",
    "stress_social_gaussianNB = GaussianNB()\n",
    "stress_social_gaussianNB.fit(stress_social_X_train, stress_social_y_train)\n",
    "stress_social_y_pred = stress_social_gaussianNB.predict(stress_social_X_test)\n",
    "print('Accuracy of gaussian naive bayes classifier on test set: {:.4f}'.format(accuracy_score(stress_social_y_test, stress_social_y_pred)))"
   ]
  },
  {
   "cell_type": "code",
   "execution_count": 27,
   "id": "71df7c90",
   "metadata": {},
   "outputs": [
    {
     "name": "stdout",
     "output_type": "stream",
     "text": [
      "Accuracy of decision tree classifier on test set: 0.5229\n"
     ]
    }
   ],
   "source": [
    "# decision tree classifier\n",
    "stress_social_dectree = DecisionTreeClassifier(criterion='entropy',random_state=0) \n",
    "stress_social_dectree.fit(stress_social_X_train,stress_social_y_train)\n",
    "stress_social_y_pred = stress_social_dectree.predict(stress_social_X_test)\n",
    "print('Accuracy of decision tree classifier on test set: {:.4f}'.format(accuracy_score(stress_social_y_test, stress_social_y_pred)))"
   ]
  },
  {
   "cell_type": "code",
   "execution_count": 28,
   "id": "167769bd",
   "metadata": {},
   "outputs": [
    {
     "name": "stdout",
     "output_type": "stream",
     "text": [
      "Accuracy of support vector machine on test set: 0.5652\n"
     ]
    }
   ],
   "source": [
    "# support vector machines with linear kernel\n",
    "stress_social_svm = svm.SVC(kernel=\"linear\")\n",
    "stress_social_svm.fit(stress_social_X_train, stress_social_y_train)\n",
    "stress_social_y_pred = stress_social_svm.predict(stress_social_X_test)\n",
    "print('Accuracy of support vector machine on test set: {:.4f}'.format(accuracy_score(stress_social_y_test, stress_social_y_pred)))"
   ]
  },
  {
   "cell_type": "code",
   "execution_count": 29,
   "id": "060b4c5d",
   "metadata": {},
   "outputs": [
    {
     "name": "stdout",
     "output_type": "stream",
     "text": [
      "1.0552387617716552\n",
      "Accuracy of ensemble method (Voting Classifier) on test set: 0.5652\n"
     ]
    }
   ],
   "source": [
    "# ensemble method using VotingClassifier()\n",
    "ensemble_model_1 = LogisticRegression()\n",
    "ensemble_model_2 = svm.SVC(kernel=\"linear\")\n",
    "ensemble_model_3 = RandomForestClassifier()\n",
    "ensemble_final_model = VotingClassifier(estimators=[('lr', ensemble_model_1), ('svm', ensemble_model_2), ('rf', ensemble_model_3)], voting='hard')\n",
    "ensemble_final_model.fit(stress_social_X_train, stress_social_y_train)\n",
    "y_pred_final = ensemble_final_model.predict(stress_social_X_test)\n",
    "print(log_loss(stress_social_y_pred, y_pred_final))\n",
    "print('Accuracy of ensemble method (Voting Classifier) on test set: {:.4f}'.format(accuracy_score(stress_social_y_test, stress_social_y_pred)))"
   ]
  },
  {
   "cell_type": "code",
   "execution_count": 30,
   "id": "5a64c975",
   "metadata": {},
   "outputs": [
    {
     "name": "stdout",
     "output_type": "stream",
     "text": [
      "Accuracy of ensemble method using Bagging Classifier on test set: 0.5335\n"
     ]
    }
   ],
   "source": [
    "# ensemble method using BaggingClassifier()\n",
    "stress_social_bagging = BaggingClassifier(base_estimator=xgb.XGBClassifier())\n",
    "stress_social_bagging.fit(stress_social_X_train, stress_social_y_train)\n",
    "stress_social_y_pred = stress_social_bagging.predict(stress_social_X_test)\n",
    "print('Accuracy of ensemble method using Bagging Classifier on test set: {:.4f}'.format(accuracy_score(stress_social_y_test, stress_social_y_pred)))"
   ]
  },
  {
   "cell_type": "code",
   "execution_count": 31,
   "id": "54d62441",
   "metadata": {},
   "outputs": [
    {
     "name": "stdout",
     "output_type": "stream",
     "text": [
      "Accuracy of ensemble method using Boosting Classifier on test set: 0.5582\n"
     ]
    }
   ],
   "source": [
    "# ensemble method using BoostingClassifier()\n",
    "stress_social_boosting = GradientBoostingClassifier() \n",
    "stress_social_boosting.fit(stress_social_X_train, stress_social_y_train)\n",
    "stress_social_y_pred = stress_social_boosting.predict(stress_social_X_test)\n",
    "print('Accuracy of ensemble method using Boosting Classifier on test set: {:.4f}'.format(accuracy_score(stress_social_y_test, stress_social_y_pred)))"
   ]
  },
  {
   "cell_type": "code",
   "execution_count": 32,
   "id": "411dce31",
   "metadata": {},
   "outputs": [
    {
     "name": "stdout",
     "output_type": "stream",
     "text": [
      "[[-0.4545323  -1.04034592  0.88973845  0.85523701  0.17912644  0.96314646]\n",
      " [ 0.59502116 -0.31685493 -0.69375429 -0.13079195 -0.97148123 -0.85575773]\n",
      " [ 2.15156232 -0.60022223 -0.0593256  -0.58648661 -0.04722261  0.3096008 ]\n",
      " ...\n",
      " [-0.27219462 -1.04034592  0.15215063 -0.42542212  0.90847338 -0.68252876]\n",
      " [ 0.69286089 -1.04034592  0.5132076  -0.15043396 -0.97148123  1.32928952]\n",
      " [-0.49011038 -1.04034592 -0.10058926 -1.30538422 -0.97148123  1.19936779]]\n",
      "1       0\n",
      "2       1\n",
      "3       1\n",
      "4       1\n",
      "5       1\n",
      "       ..\n",
      "2833    0\n",
      "2834    1\n",
      "2835    0\n",
      "2836    0\n",
      "2837    1\n",
      "Name: label, Length: 2834, dtype: int64\n"
     ]
    }
   ],
   "source": [
    "# for cognitive processes\n",
    "stress_cog_X = preprocessing.StandardScaler().fit_transform(stress_analysis.iloc[1 : , 32 : 38])\n",
    "print(stress_cog_X)\n",
    "stress_cog_y = stress_analysis.iloc[1 : , 0]\n",
    "print(stress_cog_y)"
   ]
  },
  {
   "cell_type": "code",
   "execution_count": 33,
   "id": "9f2e1675",
   "metadata": {},
   "outputs": [],
   "source": [
    "# split into train and test data\n",
    "stress_cog_X_train, stress_cog_X_test, stress_cog_y_train, stress_cog_y_test = train_test_split(stress_cog_X, stress_cog_y, test_size=0.30)"
   ]
  },
  {
   "cell_type": "code",
   "execution_count": 34,
   "id": "75945f25",
   "metadata": {},
   "outputs": [
    {
     "name": "stdout",
     "output_type": "stream",
     "text": [
      "Accuracy of logistic regression classifier on test set: 0.5758\n"
     ]
    }
   ],
   "source": [
    "# logistic regression\n",
    "stress_cog_logreg = LogisticRegression()\n",
    "stress_cog_logreg.fit(stress_cog_X_train, stress_cog_y_train)\n",
    "stress_cog_y_pred = stress_cog_logreg.predict(stress_cog_X_test)\n",
    "print('Accuracy of logistic regression classifier on test set: {:.4f}'.format(accuracy_score(stress_cog_y_test, stress_cog_y_pred)))"
   ]
  },
  {
   "cell_type": "code",
   "execution_count": 35,
   "id": "e1412607",
   "metadata": {},
   "outputs": [
    {
     "name": "stdout",
     "output_type": "stream",
     "text": [
      "Accuracy of gaussian naive bayes classifier on test set: 0.5629\n"
     ]
    }
   ],
   "source": [
    "# gaussian naive bayes\n",
    "stress_cog_gaussianNB = GaussianNB()\n",
    "stress_cog_gaussianNB.fit(stress_cog_X_train, stress_cog_y_train)\n",
    "stress_cog_y_pred = stress_cog_gaussianNB.predict(stress_cog_X_test)\n",
    "print('Accuracy of gaussian naive bayes classifier on test set: {:.4f}'.format(accuracy_score(stress_cog_y_test, stress_cog_y_pred)))"
   ]
  },
  {
   "cell_type": "code",
   "execution_count": 36,
   "id": "d72600a8",
   "metadata": {},
   "outputs": [
    {
     "name": "stdout",
     "output_type": "stream",
     "text": [
      "Accuracy of decision tree classifier on test set: 0.5476\n"
     ]
    }
   ],
   "source": [
    "# decision tree classifier\n",
    "stress_cog_dectree = DecisionTreeClassifier(criterion='entropy',random_state=0) \n",
    "stress_cog_dectree.fit(stress_cog_X_train,stress_cog_y_train)\n",
    "stress_cog_y_pred = stress_cog_dectree.predict(stress_cog_X_test)\n",
    "print('Accuracy of decision tree classifier on test set: {:.4f}'.format(accuracy_score(stress_cog_y_test, stress_cog_y_pred)))"
   ]
  },
  {
   "cell_type": "code",
   "execution_count": 37,
   "id": "21be3877",
   "metadata": {},
   "outputs": [
    {
     "name": "stdout",
     "output_type": "stream",
     "text": [
      "Accuracy of support vector machine on test set: 0.5676\n"
     ]
    }
   ],
   "source": [
    "# support vector machines with linear kernel\n",
    "stress_cog_svm = svm.SVC(kernel=\"linear\")\n",
    "stress_cog_svm.fit(stress_cog_X_train, stress_cog_y_train)\n",
    "stress_cog_y_pred = stress_cog_svm.predict(stress_cog_X_test)\n",
    "print('Accuracy of support vector machine on test set: {:.4f}'.format(accuracy_score(stress_cog_y_test, stress_cog_y_pred)))"
   ]
  },
  {
   "cell_type": "code",
   "execution_count": 38,
   "id": "4aede05b",
   "metadata": {},
   "outputs": [
    {
     "name": "stdout",
     "output_type": "stream",
     "text": [
      "1.0552631913053625\n",
      "Accuracy of ensemble method (Voting Classifier) on test set: 0.5676\n"
     ]
    }
   ],
   "source": [
    "# ensemble method using VotingClassifier()\n",
    "ensemble_model_1 = LogisticRegression()\n",
    "ensemble_model_2 = svm.SVC(kernel=\"linear\")\n",
    "ensemble_model_3 = RandomForestClassifier()\n",
    "ensemble_final_model = VotingClassifier(estimators=[('lr', ensemble_model_1), ('svm', ensemble_model_2), ('rf', ensemble_model_3)], voting='hard')\n",
    "ensemble_final_model.fit(stress_cog_X_train, stress_cog_y_train)\n",
    "y_pred_final = ensemble_final_model.predict(stress_cog_X_test)\n",
    "print(log_loss(stress_cog_y_pred, y_pred_final))\n",
    "print('Accuracy of ensemble method (Voting Classifier) on test set: {:.4f}'.format(accuracy_score(stress_cog_y_test, stress_cog_y_pred)))"
   ]
  },
  {
   "cell_type": "code",
   "execution_count": 39,
   "id": "9f655728",
   "metadata": {},
   "outputs": [
    {
     "name": "stdout",
     "output_type": "stream",
     "text": [
      "Accuracy of ensemble method using Bagging Classifier on test set: 0.5382\n"
     ]
    }
   ],
   "source": [
    "# ensemble method using BaggingClassifier()\n",
    "stress_cog_bagging = BaggingClassifier(base_estimator=xgb.XGBClassifier())\n",
    "stress_cog_bagging.fit(stress_cog_X_train, stress_cog_y_train)\n",
    "stress_cog_y_pred = stress_cog_bagging.predict(stress_cog_X_test)\n",
    "print('Accuracy of ensemble method using Bagging Classifier on test set: {:.4f}'.format(accuracy_score(stress_cog_y_test, stress_cog_y_pred)))"
   ]
  },
  {
   "cell_type": "code",
   "execution_count": 40,
   "id": "3c8ab80c",
   "metadata": {},
   "outputs": [
    {
     "name": "stdout",
     "output_type": "stream",
     "text": [
      "Accuracy of ensemble method using Boosting Classifier on test set: 0.5699\n"
     ]
    }
   ],
   "source": [
    "# ensemble method using BoostingClassifier()\n",
    "stress_cog_boosting = GradientBoostingClassifier() \n",
    "stress_cog_boosting.fit(stress_cog_X_train, stress_cog_y_train)\n",
    "stress_cog_y_pred = stress_cog_boosting.predict(stress_cog_X_test)\n",
    "print('Accuracy of ensemble method using Boosting Classifier on test set: {:.4f}'.format(accuracy_score(stress_cog_y_test, stress_cog_y_pred)))"
   ]
  },
  {
   "cell_type": "code",
   "execution_count": 41,
   "id": "7061816d",
   "metadata": {},
   "outputs": [
    {
     "name": "stdout",
     "output_type": "stream",
     "text": [
      "[[ 0.31524276 -0.54467517 -0.62694536 ... -0.70146538 -0.31258829\n",
      "  -0.30049107]\n",
      " [-0.52132329 -0.54467517 -0.62694536 ... -0.70146538 -0.31258829\n",
      "  -0.30049107]\n",
      " [ 0.47891872 -0.54467517  3.14361114 ... -0.70146538  0.2268328\n",
      "  -0.02665786]\n",
      " ...\n",
      " [ 0.83354998 -0.54467517 -0.62694536 ...  1.39766844 -0.31258829\n",
      "  -0.30049107]\n",
      " [ 3.48873787 -0.54467517 -0.62694536 ... -0.70146538 -0.31258829\n",
      "   0.7874409 ]\n",
      " [-0.52132329  2.5730638  -0.62694536 ... -0.70146538 -0.31258829\n",
      "  -0.30049107]]\n",
      "1       0\n",
      "2       1\n",
      "3       1\n",
      "4       1\n",
      "5       1\n",
      "       ..\n",
      "2833    0\n",
      "2834    1\n",
      "2835    0\n",
      "2836    0\n",
      "2837    1\n",
      "Name: label, Length: 2834, dtype: int64\n"
     ]
    }
   ],
   "source": [
    "# for perceptual/biological processes\n",
    "stress_percept_bio = stress_analysis.iloc[1 : , 39 : 47].drop(columns = ['lex_liwc_bio'])\n",
    "stress_percept_bio_X = preprocessing.StandardScaler().fit_transform(stress_percept_bio)\n",
    "print(stress_percept_bio_X)\n",
    "stress_percept_bio_y = stress_analysis.iloc[1 : , 0]\n",
    "print(stress_percept_bio_y)"
   ]
  },
  {
   "cell_type": "code",
   "execution_count": 42,
   "id": "d1c19a6d",
   "metadata": {},
   "outputs": [],
   "source": [
    "# split into train and test data\n",
    "stress_percept_bio_X_train, stress_percept_bio_X_test, stress_percept_bio_y_train, stress_percept_bio_y_test = train_test_split(stress_percept_bio_X, stress_percept_bio_y, test_size=0.30)"
   ]
  },
  {
   "cell_type": "code",
   "execution_count": 43,
   "id": "65858a78",
   "metadata": {},
   "outputs": [
    {
     "name": "stdout",
     "output_type": "stream",
     "text": [
      "Accuracy of logistic regression classifier on test set: 0.6110\n"
     ]
    }
   ],
   "source": [
    "# logistic regression\n",
    "stress_percept_bio_logreg = LogisticRegression()\n",
    "stress_percept_bio_logreg.fit(stress_percept_bio_X_train, stress_percept_bio_y_train)\n",
    "stress_percept_bio_y_pred = stress_percept_bio_logreg.predict(stress_percept_bio_X_test)\n",
    "print('Accuracy of logistic regression classifier on test set: {:.4f}'.format(accuracy_score(stress_percept_bio_y_test, stress_percept_bio_y_pred)))"
   ]
  },
  {
   "cell_type": "code",
   "execution_count": 44,
   "id": "3251ed3d",
   "metadata": {},
   "outputs": [
    {
     "name": "stdout",
     "output_type": "stream",
     "text": [
      "Accuracy of gaussian naive bayes classifier on test set: 0.6169\n"
     ]
    }
   ],
   "source": [
    "# gaussian naive bayes\n",
    "stress_percept_bio_gaussianNB = GaussianNB()\n",
    "stress_percept_bio_gaussianNB.fit(stress_percept_bio_X_train, stress_percept_bio_y_train)\n",
    "stress_percept_bio_y_pred = stress_percept_bio_gaussianNB.predict(stress_percept_bio_X_test)\n",
    "print('Accuracy of gaussian naive bayes classifier on test set: {:.4f}'.format(accuracy_score(stress_percept_bio_y_test, stress_percept_bio_y_pred)))"
   ]
  },
  {
   "cell_type": "code",
   "execution_count": 45,
   "id": "5b85ad78",
   "metadata": {},
   "outputs": [
    {
     "name": "stdout",
     "output_type": "stream",
     "text": [
      "Accuracy of decision tree classifier on test set: 0.5476\n"
     ]
    }
   ],
   "source": [
    "# decision tree classifier\n",
    "stress_percept_bio_dectree = DecisionTreeClassifier(criterion='entropy',random_state=0) \n",
    "stress_percept_bio_dectree.fit(stress_percept_bio_X_train,stress_percept_bio_y_train)\n",
    "stress_percept_bio_y_pred = stress_percept_bio_dectree.predict(stress_percept_bio_X_test)\n",
    "print('Accuracy of decision tree classifier on test set: {:.4f}'.format(accuracy_score(stress_percept_bio_y_test, stress_percept_bio_y_pred)))"
   ]
  },
  {
   "cell_type": "code",
   "execution_count": 46,
   "id": "1e7a1f6f",
   "metadata": {},
   "outputs": [
    {
     "name": "stdout",
     "output_type": "stream",
     "text": [
      "Accuracy of support vector machine on test set: 0.6005\n"
     ]
    }
   ],
   "source": [
    "# support vector machines with linear kernel\n",
    "stress_percept_bio_svm = svm.SVC(kernel=\"linear\")\n",
    "stress_percept_bio_svm.fit(stress_percept_bio_X_train, stress_percept_bio_y_train)\n",
    "stress_percept_bio_y_pred = stress_percept_bio_svm.predict(stress_percept_bio_X_test)\n",
    "print('Accuracy of support vector machine on test set: {:.4f}'.format(accuracy_score(stress_percept_bio_y_test, stress_percept_bio_y_pred)))"
   ]
  },
  {
   "cell_type": "code",
   "execution_count": 47,
   "id": "40c74ed1",
   "metadata": {},
   "outputs": [
    {
     "name": "stdout",
     "output_type": "stream",
     "text": [
      "2.1511124888327107\n",
      "Accuracy of ensemble method (Voting Classifier) on test set: 0.6005\n"
     ]
    }
   ],
   "source": [
    "# ensemble method using VotingClassifier()\n",
    "ensemble_model_1 = LogisticRegression()\n",
    "ensemble_model_2 = svm.SVC(kernel=\"linear\")\n",
    "ensemble_model_3 = RandomForestClassifier()\n",
    "ensemble_final_model = VotingClassifier(estimators=[('lr', ensemble_model_1), ('svm', ensemble_model_2), ('rf', ensemble_model_3)], voting='hard')\n",
    "ensemble_final_model.fit(stress_percept_bio_X_train, stress_percept_bio_y_train)\n",
    "y_pred_final = ensemble_final_model.predict(stress_percept_bio_X_test)\n",
    "print(log_loss(stress_percept_bio_y_pred, y_pred_final))\n",
    "print('Accuracy of ensemble method (Voting Classifier) on test set: {:.4f}'.format(accuracy_score(stress_percept_bio_y_test, stress_percept_bio_y_pred)))"
   ]
  },
  {
   "cell_type": "code",
   "execution_count": 48,
   "id": "ca336c13",
   "metadata": {},
   "outputs": [
    {
     "name": "stdout",
     "output_type": "stream",
     "text": [
      "Accuracy of ensemble method using Bagging Classifier on test set: 0.5899\n"
     ]
    }
   ],
   "source": [
    "# ensemble method using BaggingClassifier()\n",
    "stress_percept_bio_bagging = BaggingClassifier(base_estimator=xgb.XGBClassifier())\n",
    "stress_percept_bio_bagging.fit(stress_percept_bio_X_train, stress_percept_bio_y_train)\n",
    "stress_percept_bio_y_pred = stress_percept_bio_bagging.predict(stress_percept_bio_X_test)\n",
    "print('Accuracy of ensemble method using Bagging Classifier on test set: {:.4f}'.format(accuracy_score(stress_percept_bio_y_test, stress_percept_bio_y_pred)))"
   ]
  },
  {
   "cell_type": "code",
   "execution_count": 49,
   "id": "19320c35",
   "metadata": {},
   "outputs": [
    {
     "name": "stdout",
     "output_type": "stream",
     "text": [
      "Accuracy of ensemble method using Boosting Classifier on test set: 0.6005\n"
     ]
    }
   ],
   "source": [
    "# ensemble method using BoostingClassifier()\n",
    "stress_percept_bio_boosting = GradientBoostingClassifier() \n",
    "stress_percept_bio_boosting.fit(stress_percept_bio_X_train, stress_percept_bio_y_train)\n",
    "stress_percept_bio_y_pred = stress_percept_bio_boosting.predict(stress_percept_bio_X_test)\n",
    "print('Accuracy of ensemble method using Boosting Classifier on test set: {:.4f}'.format(accuracy_score(stress_percept_bio_y_test, stress_percept_bio_y_pred)))"
   ]
  },
  {
   "cell_type": "code",
   "execution_count": 50,
   "id": "84906e97",
   "metadata": {},
   "outputs": [
    {
     "name": "stdout",
     "output_type": "stream",
     "text": [
      "[[-1.01858479  0.25403577 -0.18005093]\n",
      " [-0.36206702  0.36227782  0.42523668]\n",
      " [ 0.64606888  0.15289156 -0.0562421 ]\n",
      " ...\n",
      " [-1.24480065 -0.06891591  1.24375062]\n",
      " [-1.24480065  1.4659918   1.20935927]\n",
      " [ 2.20745009 -0.00858428 -0.81285162]]\n",
      "1       0\n",
      "2       1\n",
      "3       1\n",
      "4       1\n",
      "5       1\n",
      "       ..\n",
      "2833    0\n",
      "2834    1\n",
      "2835    0\n",
      "2836    0\n",
      "2837    1\n",
      "Name: label, Length: 2834, dtype: int64\n"
     ]
    }
   ],
   "source": [
    "# for time orientations\n",
    "stress_time_X = preprocessing.StandardScaler().fit_transform(stress_analysis.iloc[1 : , 47 : 50])\n",
    "print(stress_time_X)\n",
    "stress_time_y = stress_analysis.iloc[1 : , 0]\n",
    "print(stress_time_y)"
   ]
  },
  {
   "cell_type": "code",
   "execution_count": 51,
   "id": "aa39440b",
   "metadata": {},
   "outputs": [],
   "source": [
    "# split into train and test data\n",
    "stress_time_X_train, stress_time_X_test, stress_time_y_train, stress_time_y_test = train_test_split(stress_time_X, stress_time_y, test_size=0.30)"
   ]
  },
  {
   "cell_type": "code",
   "execution_count": 52,
   "id": "3c78db16",
   "metadata": {},
   "outputs": [
    {
     "name": "stdout",
     "output_type": "stream",
     "text": [
      "Accuracy of logistic regression classifier on test set: 0.5969\n"
     ]
    }
   ],
   "source": [
    "# logistic regression\n",
    "stress_time_logreg = LogisticRegression()\n",
    "stress_time_logreg.fit(stress_time_X_train, stress_time_y_train)\n",
    "stress_time_y_pred = stress_time_logreg.predict(stress_time_X_test)\n",
    "print('Accuracy of logistic regression classifier on test set: {:.4f}'.format(accuracy_score(stress_time_y_test, stress_time_y_pred)))"
   ]
  },
  {
   "cell_type": "code",
   "execution_count": 53,
   "id": "852785b8",
   "metadata": {},
   "outputs": [
    {
     "name": "stdout",
     "output_type": "stream",
     "text": [
      "Accuracy of gaussian naive bayes classifier on test set: 0.5840\n"
     ]
    }
   ],
   "source": [
    "# gaussian naive bayes\n",
    "stress_time_gaussianNB = GaussianNB()\n",
    "stress_time_gaussianNB.fit(stress_time_X_train, stress_time_y_train)\n",
    "stress_time_y_pred = stress_time_gaussianNB.predict(stress_time_X_test)\n",
    "print('Accuracy of gaussian naive bayes classifier on test set: {:.4f}'.format(accuracy_score(stress_time_y_test, stress_time_y_pred)))"
   ]
  },
  {
   "cell_type": "code",
   "execution_count": 54,
   "id": "95316d64",
   "metadata": {},
   "outputs": [
    {
     "name": "stdout",
     "output_type": "stream",
     "text": [
      "Accuracy of decision tree classifier on test set: 0.5511\n"
     ]
    }
   ],
   "source": [
    "# decision tree classifier\n",
    "stress_time_dectree = DecisionTreeClassifier(criterion='entropy',random_state=0) \n",
    "stress_time_dectree.fit(stress_time_X_train,stress_time_y_train)\n",
    "stress_time_y_pred = stress_time_dectree.predict(stress_time_X_test)\n",
    "print('Accuracy of decision tree classifier on test set: {:.4f}'.format(accuracy_score(stress_time_y_test, stress_time_y_pred)))"
   ]
  },
  {
   "cell_type": "code",
   "execution_count": 55,
   "id": "7401c9a0",
   "metadata": {},
   "outputs": [
    {
     "name": "stdout",
     "output_type": "stream",
     "text": [
      "Accuracy of support vector machine on test set: 0.5934\n"
     ]
    }
   ],
   "source": [
    "# support vector machines with linear kernel\n",
    "stress_time_svm = svm.SVC(kernel=\"linear\")\n",
    "stress_time_svm.fit(stress_time_X_train, stress_time_y_train)\n",
    "stress_time_y_pred = stress_time_svm.predict(stress_time_X_test)\n",
    "print('Accuracy of support vector machine on test set: {:.4f}'.format(accuracy_score(stress_time_y_test, stress_time_y_pred)))"
   ]
  },
  {
   "cell_type": "code",
   "execution_count": 56,
   "id": "d06b0cc0",
   "metadata": {},
   "outputs": [
    {
     "name": "stdout",
     "output_type": "stream",
     "text": [
      "1.0552566141232107\n",
      "Accuracy of ensemble method (Voting Classifier) on test set: 0.5934\n"
     ]
    }
   ],
   "source": [
    "# ensemble method using VotingClassifier()\n",
    "ensemble_model_1 = LogisticRegression()\n",
    "ensemble_model_2 = svm.SVC(kernel=\"linear\")\n",
    "ensemble_model_3 = RandomForestClassifier()\n",
    "ensemble_final_model = VotingClassifier(estimators=[('lr', ensemble_model_1), ('svm', ensemble_model_2), ('rf', ensemble_model_3)], voting='hard')\n",
    "ensemble_final_model.fit(stress_time_X_train, stress_time_y_train)\n",
    "y_pred_final = ensemble_final_model.predict(stress_time_X_test)\n",
    "print(log_loss(stress_time_y_pred, y_pred_final))\n",
    "print('Accuracy of ensemble method (Voting Classifier) on test set: {:.4f}'.format(accuracy_score(stress_time_y_test, stress_time_y_pred)))"
   ]
  },
  {
   "cell_type": "code",
   "execution_count": 57,
   "id": "46053167",
   "metadata": {},
   "outputs": [
    {
     "name": "stdout",
     "output_type": "stream",
     "text": [
      "Accuracy of ensemble method using Bagging Classifier on test set: 0.5488\n"
     ]
    }
   ],
   "source": [
    "# ensemble method using BaggingClassifier()\n",
    "stress_time_bagging = BaggingClassifier(base_estimator=xgb.XGBClassifier())\n",
    "stress_time_bagging.fit(stress_time_X_train, stress_time_y_train)\n",
    "stress_time_y_pred = stress_time_bagging.predict(stress_time_X_test)\n",
    "print('Accuracy of ensemble method using Bagging Classifier on test set: {:.4f}'.format(accuracy_score(stress_time_y_test, stress_time_y_pred)))"
   ]
  },
  {
   "cell_type": "code",
   "execution_count": 58,
   "id": "e0cbffe1",
   "metadata": {},
   "outputs": [
    {
     "name": "stdout",
     "output_type": "stream",
     "text": [
      "Accuracy of ensemble method using Boosting Classifier on test set: 0.5535\n"
     ]
    }
   ],
   "source": [
    "# ensemble method using BoostingClassifier()\n",
    "stress_time_boosting = GradientBoostingClassifier() \n",
    "stress_time_boosting.fit(stress_time_X_train, stress_time_y_train)\n",
    "stress_time_y_pred = stress_time_boosting.predict(stress_time_X_test)\n",
    "print('Accuracy of ensemble method using Boosting Classifier on test set: {:.4f}'.format(accuracy_score(stress_time_y_test, stress_time_y_pred)))"
   ]
  },
  {
   "cell_type": "code",
   "execution_count": 59,
   "id": "3f973e18",
   "metadata": {},
   "outputs": [],
   "source": [
    "# all features combined\n",
    "stress_all = stress_analysis.iloc[1 : , 1 : ].drop(columns=['lex_liwc_function', 'lex_liwc_affect', 'lex_liwc_social', 'lex_liwc_cogproc', 'lex_liwc_percept', 'lex_liwc_bio'])\n",
    "stress_all_X = preprocessing.StandardScaler().fit_transform(stress_all)\n",
    "stress_all_y = stress_analysis.iloc[1 : , 0]"
   ]
  },
  {
   "cell_type": "code",
   "execution_count": 60,
   "id": "1bd65d74",
   "metadata": {},
   "outputs": [],
   "source": [
    "# split into train and test data\n",
    "stress_all_X_train, stress_all_X_test, stress_all_y_train, stress_all_y_test = train_test_split(stress_all_X, stress_all_y, test_size=0.30)"
   ]
  },
  {
   "cell_type": "code",
   "execution_count": 61,
   "id": "fa482067",
   "metadata": {},
   "outputs": [
    {
     "name": "stdout",
     "output_type": "stream",
     "text": [
      "Accuracy of logistic regression classifier on test set: 0.7462\n"
     ]
    }
   ],
   "source": [
    "# logistic regression\n",
    "stress_all_logreg = LogisticRegression()\n",
    "stress_all_logreg.fit(stress_all_X_train, stress_all_y_train)\n",
    "stress_all_y_pred = stress_all_logreg.predict(stress_all_X_test)\n",
    "print('Accuracy of logistic regression classifier on test set: {:.4f}'.format(accuracy_score(stress_all_y_test, stress_all_y_pred)))"
   ]
  },
  {
   "cell_type": "code",
   "execution_count": 62,
   "id": "31d5d2b9",
   "metadata": {},
   "outputs": [
    {
     "name": "stdout",
     "output_type": "stream",
     "text": [
      "Accuracy of gaussian naive bayes classifier on test set: 0.7333\n"
     ]
    }
   ],
   "source": [
    "# gaussian naive bayes\n",
    "stress_all_gaussianNB = GaussianNB()\n",
    "stress_all_gaussianNB.fit(stress_all_X_train, stress_all_y_train)\n",
    "stress_all_y_pred = stress_all_gaussianNB.predict(stress_all_X_test)\n",
    "print('Accuracy of gaussian naive bayes classifier on test set: {:.4f}'.format(accuracy_score(stress_all_y_test, stress_all_y_pred)))"
   ]
  },
  {
   "cell_type": "code",
   "execution_count": 63,
   "id": "caf653cc",
   "metadata": {},
   "outputs": [
    {
     "name": "stdout",
     "output_type": "stream",
     "text": [
      "Accuracy of decision tree classifier on test set: 0.6769\n"
     ]
    }
   ],
   "source": [
    "# decision tree classifier\n",
    "stress_all_dectree = DecisionTreeClassifier(criterion='entropy',random_state=0) \n",
    "stress_all_dectree.fit(stress_all_X_train,stress_all_y_train)\n",
    "stress_all_y_pred = stress_all_dectree.predict(stress_all_X_test)\n",
    "print('Accuracy of decision tree classifier on test set: {:.4f}'.format(accuracy_score(stress_all_y_test, stress_all_y_pred)))"
   ]
  },
  {
   "cell_type": "code",
   "execution_count": 64,
   "id": "820e6b15",
   "metadata": {},
   "outputs": [
    {
     "name": "stdout",
     "output_type": "stream",
     "text": [
      "Accuracy of support vector machine on test set: 0.7438\n"
     ]
    }
   ],
   "source": [
    "# support vector machines with linear kernel\n",
    "stress_all_svm = svm.SVC(kernel=\"linear\")\n",
    "stress_all_svm.fit(stress_all_X_train, stress_all_y_train)\n",
    "stress_all_y_pred = stress_all_svm.predict(stress_all_X_test)\n",
    "print('Accuracy of support vector machine on test set: {:.4f}'.format(accuracy_score(stress_all_y_test, stress_all_y_pred)))"
   ]
  },
  {
   "cell_type": "code",
   "execution_count": 65,
   "id": "3b5f8581",
   "metadata": {},
   "outputs": [
    {
     "name": "stdout",
     "output_type": "stream",
     "text": [
      "0.36527965398513274\n",
      "Accuracy of ensemble method (Voting Classifier) on test set: 0.7438\n"
     ]
    }
   ],
   "source": [
    "# ensemble method using VotingClassifier()\n",
    "ensemble_model_1 = LogisticRegression()\n",
    "ensemble_model_2 = svm.SVC(kernel=\"linear\")\n",
    "ensemble_model_3 = RandomForestClassifier()\n",
    "ensemble_final_model = VotingClassifier(estimators=[('lr', ensemble_model_1), ('svm', ensemble_model_2), ('rf', ensemble_model_3)], voting='hard')\n",
    "ensemble_final_model.fit(stress_all_X_train, stress_all_y_train)\n",
    "y_pred_final = ensemble_final_model.predict(stress_all_X_test)\n",
    "print(log_loss(stress_all_y_pred, y_pred_final))\n",
    "print('Accuracy of ensemble method (Voting Classifier) on test set: {:.4f}'.format(accuracy_score(stress_all_y_test, stress_all_y_pred)))"
   ]
  },
  {
   "cell_type": "code",
   "execution_count": 66,
   "id": "4f6b4a45",
   "metadata": {},
   "outputs": [
    {
     "name": "stdout",
     "output_type": "stream",
     "text": [
      "Accuracy of ensemble method using Bagging Classifier on test set: 0.7497\n"
     ]
    }
   ],
   "source": [
    "# ensemble method using BaggingClassifier()\n",
    "stress_all_bagging = BaggingClassifier(base_estimator=xgb.XGBClassifier())\n",
    "stress_all_bagging.fit(stress_all_X_train, stress_all_y_train)\n",
    "stress_all_y_pred = stress_all_bagging.predict(stress_all_X_test)\n",
    "print('Accuracy of ensemble method using Bagging Classifier on test set: {:.4f}'.format(accuracy_score(stress_all_y_test, stress_all_y_pred)))"
   ]
  },
  {
   "cell_type": "code",
   "execution_count": 67,
   "id": "18902f86",
   "metadata": {},
   "outputs": [
    {
     "name": "stdout",
     "output_type": "stream",
     "text": [
      "Accuracy of ensemble method using Boosting Classifier on test set: 0.7474\n"
     ]
    }
   ],
   "source": [
    "# ensemble method using BoostingClassifier()\n",
    "stress_all_boosting = GradientBoostingClassifier() \n",
    "stress_all_boosting.fit(stress_all_X_train, stress_all_y_train)\n",
    "stress_all_y_pred = stress_all_boosting.predict(stress_all_X_test)\n",
    "print('Accuracy of ensemble method using Boosting Classifier on test set: {:.4f}'.format(accuracy_score(stress_all_y_test, stress_all_y_pred)))"
   ]
  },
  {
   "cell_type": "code",
   "execution_count": null,
   "id": "22bfaabc",
   "metadata": {},
   "outputs": [],
   "source": []
  }
 ],
 "metadata": {
  "kernelspec": {
   "display_name": "Python 3 (ipykernel)",
   "language": "python",
   "name": "python3"
  },
  "language_info": {
   "codemirror_mode": {
    "name": "ipython",
    "version": 3
   },
   "file_extension": ".py",
   "mimetype": "text/x-python",
   "name": "python",
   "nbconvert_exporter": "python",
   "pygments_lexer": "ipython3",
   "version": "3.9.13"
  }
 },
 "nbformat": 4,
 "nbformat_minor": 5
}
